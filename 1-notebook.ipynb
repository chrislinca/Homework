{
  "nbformat": 4,
  "nbformat_minor": 0,
  "metadata": {
    "colab": {
      "provenance": []
    },
    "kernelspec": {
      "name": "python3",
      "display_name": "Python 3"
    },
    "language_info": {
      "name": "python"
    }
  },
  "cells": [
    {
      "cell_type": "code",
      "execution_count": null,
      "metadata": {
        "id": "L2Mi2KPQN0TU"
      },
      "outputs": [],
      "source": []
    },
    {
      "cell_type": "markdown",
      "source": [
        "<H1>Data Science Tools and Ecosystem</H1>"
      ],
      "metadata": {
        "id": "krfACIdLN637"
      }
    },
    {
      "cell_type": "markdown",
      "source": [
        "## In this notebook, Data Science Tools and Ecosystem are summarized."
      ],
      "metadata": {
        "id": "NOA5tXhEP89-"
      }
    },
    {
      "cell_type": "markdown",
      "source": [
        "## Some of the popular languages that Data Scientists use are:\n",
        "1. Python\n",
        "2. R\n",
        "3. C++"
      ],
      "metadata": {
        "id": "M8gUypL7RN2O"
      }
    },
    {
      "cell_type": "markdown",
      "source": [
        "## Some of the commonly used libraries used by Data Scientists include:\n",
        "1. Numpy\n",
        "2. Panda\n",
        "3. Scikit-learn"
      ],
      "metadata": {
        "id": "ADQyyf9-RmbV"
      }
    },
    {
      "cell_type": "markdown",
      "source": [
        "| Data Science Tools |\n",
        "| -------------------- |\n",
        "| Jupyter Notebook |\n",
        "| RStudio |\n",
        "| VS Code (Visual Studio Code) |"
      ],
      "metadata": {
        "id": "8HY0FU0gSrrj"
      }
    },
    {
      "cell_type": "markdown",
      "source": [
        "<H3>Below are a few examples of evaluating arithmetic expressions in Python</H3>\n"
      ],
      "metadata": {
        "id": "jwVvJ5_ETEue"
      }
    },
    {
      "cell_type": "code",
      "source": [
        "# This a simple arithmetic expression to mutiply then add integers\n",
        "(3*4)+5"
      ],
      "metadata": {
        "colab": {
          "base_uri": "https://localhost:8080/"
        },
        "id": "UZHruem1TfiU",
        "outputId": "6b730508-34d3-4b75-e84f-8d550e6ad773"
      },
      "execution_count": 1,
      "outputs": [
        {
          "output_type": "execute_result",
          "data": {
            "text/plain": [
              "17"
            ]
          },
          "metadata": {},
          "execution_count": 1
        }
      ]
    },
    {
      "cell_type": "code",
      "source": [
        "# This will convert 200 minutes to hours by diving by 60\n",
        "200/60"
      ],
      "metadata": {
        "colab": {
          "base_uri": "https://localhost:8080/"
        },
        "id": "1cbKxADTT2iW",
        "outputId": "b7ce5700-7638-4224-a8ff-ec4cfb7a91ff"
      },
      "execution_count": 2,
      "outputs": [
        {
          "output_type": "execute_result",
          "data": {
            "text/plain": [
              "3.3333333333333335"
            ]
          },
          "metadata": {},
          "execution_count": 2
        }
      ]
    },
    {
      "cell_type": "markdown",
      "source": [
        "## <b>Objectives:</b>\n",
        "- C++\n",
        "- R\n",
        "- Python"
      ],
      "metadata": {
        "id": "lzyq0UUsUbzb"
      }
    },
    {
      "cell_type": "markdown",
      "source": [
        "## <H2>Author</H2>\n",
        "\n",
        "| Author |\n",
        "| ------ |\n",
        "| Christopher Lin |"
      ],
      "metadata": {
        "id": "-pSQaRLPU1sT"
      }
    },
    {
      "cell_type": "code",
      "source": [],
      "metadata": {
        "id": "snMee1rHSMtC"
      },
      "execution_count": null,
      "outputs": []
    },
    {
      "cell_type": "code",
      "source": [],
      "metadata": {
        "id": "dFhvgUJ2OHBo"
      },
      "execution_count": null,
      "outputs": []
    }
  ]
}